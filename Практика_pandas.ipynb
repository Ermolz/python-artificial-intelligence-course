{
 "nbformat": 4,
 "nbformat_minor": 0,
 "metadata": {
  "colab": {
   "provenance": [],
   "authorship_tag": "ABX9TyM5GfSjAX/XwAEtwmX2ywd2",
   "include_colab_link": true
  },
  "kernelspec": {
   "name": "python3",
   "display_name": "Python 3"
  },
  "language_info": {
   "name": "python"
  }
 },
 "cells": [
  {
   "cell_type": "markdown",
   "metadata": {
    "id": "view-in-github",
    "colab_type": "text"
   },
   "source": [
    "<a href=\"https://colab.research.google.com/github/HalyshAnton/IT-Step-Pyton-AI/blob/main/module2/%D0%9F%D1%80%D0%B0%D0%BA%D1%82%D0%B8%D0%BA%D0%B0_pandas.ipynb\" target=\"_parent\"><img src=\"https://colab.research.google.com/assets/colab-badge.svg\" alt=\"Open In Colab\"/></a>"
   ]
  },
  {
   "cell_type": "markdown",
   "source": [
    "Імпорт модуля pandas"
   ],
   "metadata": {
    "id": "ikzNvEQx0XKG"
   }
  },
  {
   "cell_type": "code",
   "metadata": {
    "id": "fzkEy73a0Rl8",
    "ExecuteTime": {
     "end_time": "2025-05-21T14:53:17.629961Z",
     "start_time": "2025-05-21T14:53:17.625258Z"
    }
   },
   "source": "import pandas as pd",
   "outputs": [],
   "execution_count": 14
  },
  {
   "cell_type": "markdown",
   "source": [
    "Дані про пасажирів корабля:\n",
    "* pclass -- клас білета(перший, другий або третій)\n",
    "* sex -- стать\n",
    "* age -- вік\n",
    "* sibsp -- кількість братів\\сестер та чоловіків\\дружин на борту\n",
    "* parch -- кількість дітей та батьків на борту\n",
    "* fare -- вартість поїздки\n",
    "* embarked -- Порт посадки (C = Шербур, Q = Квінстаун, S = Саутгемптон)\n"
   ],
   "metadata": {
    "id": "RoUDr2wi1D7y"
   }
  },
  {
   "cell_type": "code",
   "source": [
    "df = pd.read_csv(\"https://raw.githubusercontent.com/HalyshAnton/IT-Step-Pyton-AI/main/module2/data/ship_passengers.csv\",\n",
    "                 index_col=\"Unnamed: 0\")"
   ],
   "metadata": {
    "id": "sDI-qfUH0dBT",
    "ExecuteTime": {
     "end_time": "2025-05-21T14:53:17.933534Z",
     "start_time": "2025-05-21T14:53:17.656055Z"
    }
   },
   "outputs": [],
   "execution_count": 15
  },
  {
   "cell_type": "markdown",
   "source": [
    "# Завдання 1\n",
    "\n",
    "Вивести загальну інформацію про таблицю: кількість рядків та стовпців, назви стовпців та їхній тип даних, в яких стовпцях є пропущені значення"
   ],
   "metadata": {
    "id": "_pD2l5vN43VF"
   }
  },
  {
   "cell_type": "code",
   "source": "df.info()",
   "metadata": {
    "id": "n-BkudKiWhW_",
    "ExecuteTime": {
     "end_time": "2025-05-21T14:53:17.981415Z",
     "start_time": "2025-05-21T14:53:17.970748Z"
    }
   },
   "outputs": [
    {
     "name": "stdout",
     "output_type": "stream",
     "text": [
      "<class 'pandas.core.frame.DataFrame'>\n",
      "Index: 891 entries, 0 to 890\n",
      "Data columns (total 7 columns):\n",
      " #   Column    Non-Null Count  Dtype  \n",
      "---  ------    --------------  -----  \n",
      " 0   pclass    891 non-null    int64  \n",
      " 1   sex       891 non-null    object \n",
      " 2   age       714 non-null    float64\n",
      " 3   sibsp     891 non-null    int64  \n",
      " 4   parch     891 non-null    int64  \n",
      " 5   fare      891 non-null    float64\n",
      " 6   embarked  889 non-null    object \n",
      "dtypes: float64(2), int64(3), object(2)\n",
      "memory usage: 55.7+ KB\n"
     ]
    }
   ],
   "execution_count": 16
  },
  {
   "cell_type": "markdown",
   "source": [
    "# Завдання 2\n",
    "Скільки пасажирів сіло у Квінстауні?"
   ],
   "metadata": {
    "id": "YVUQGjfXOLMo"
   }
  },
  {
   "cell_type": "code",
   "source": "df[df[\"embarked\"] == \"Q\"].shape[0]",
   "metadata": {
    "id": "x4PMpTIlPYR5",
    "ExecuteTime": {
     "end_time": "2025-05-21T14:53:18.041638Z",
     "start_time": "2025-05-21T14:53:18.035411Z"
    }
   },
   "outputs": [
    {
     "data": {
      "text/plain": [
       "77"
      ]
     },
     "execution_count": 17,
     "metadata": {},
     "output_type": "execute_result"
    }
   ],
   "execution_count": 17
  },
  {
   "cell_type": "markdown",
   "source": [
    "# Завдання 3\n",
    "Виведіть стать, вік та вартість поїздки для пасажирів з білетом першого класу"
   ],
   "metadata": {
    "id": "GUQxGeGZPaxq"
   }
  },
  {
   "cell_type": "code",
   "source": [
    "first_class_passengers = df[df['pclass'] == 1]\n",
    "\n",
    "print(first_class_passengers[['sex', 'age', 'fare']])"
   ],
   "metadata": {
    "id": "XKIZYvdsRQSY",
    "ExecuteTime": {
     "end_time": "2025-05-21T14:53:18.134191Z",
     "start_time": "2025-05-21T14:53:18.123657Z"
    }
   },
   "outputs": [
    {
     "name": "stdout",
     "output_type": "stream",
     "text": [
      "        sex   age     fare\n",
      "1    female  38.0  71.2833\n",
      "3    female  35.0  53.1000\n",
      "6      male  54.0  51.8625\n",
      "11   female  58.0  26.5500\n",
      "23     male  28.0  35.5000\n",
      "..      ...   ...      ...\n",
      "871  female  47.0  52.5542\n",
      "872    male  33.0   5.0000\n",
      "879  female  56.0  83.1583\n",
      "887  female  19.0  30.0000\n",
      "889    male  26.0  30.0000\n",
      "\n",
      "[216 rows x 3 columns]\n"
     ]
    }
   ],
   "execution_count": 18
  },
  {
   "cell_type": "markdown",
   "source": [
    "# Завдання 4\n",
    "Ввиведіть дані про неповнолітніх чоловіків з Шербура"
   ],
   "metadata": {
    "id": "7S_Qh0hvRaVS"
   }
  },
  {
   "cell_type": "code",
   "source": [
    "males_from_c = df[(df['embarked'] == 'C') & (df['age'] < 18) & (df['sex'] == 'male')]\n",
    "print(males_from_c)"
   ],
   "metadata": {
    "id": "mfOJmkOgRURj",
    "ExecuteTime": {
     "end_time": "2025-05-21T14:53:18.247206Z",
     "start_time": "2025-05-21T14:53:18.238152Z"
    }
   },
   "outputs": [
    {
     "name": "stdout",
     "output_type": "stream",
     "text": [
      "     pclass   sex    age  sibsp  parch      fare embarked\n",
      "125       3  male  12.00      1      0   11.2417        C\n",
      "352       3  male  15.00      1      1    7.2292        C\n",
      "532       3  male  17.00      1      1    7.2292        C\n",
      "550       1  male  17.00      0      2  110.8833        C\n",
      "731       3  male  11.00      0      0   18.7875        C\n",
      "803       3  male   0.42      0      1    8.5167        C\n",
      "827       2  male   1.00      0      2   37.0042        C\n"
     ]
    }
   ],
   "execution_count": 19
  },
  {
   "cell_type": "markdown",
   "source": [
    "# Завдання 5\n",
    "Створіть новий стовпчик relatives -- загальна кількість родичів на борту для кожного пасажира"
   ],
   "metadata": {
    "id": "ZoF1nlueSptD"
   }
  },
  {
   "cell_type": "code",
   "source": [
    "df['relatives'] = df['sibsp'] + df['parch']\n",
    "\n",
    "print(df[['sex', 'age', 'sibsp', 'parch', 'relatives']])"
   ],
   "metadata": {
    "id": "L1UXr-75WflB",
    "ExecuteTime": {
     "end_time": "2025-05-21T14:53:18.314009Z",
     "start_time": "2025-05-21T14:53:18.304835Z"
    }
   },
   "outputs": [
    {
     "name": "stdout",
     "output_type": "stream",
     "text": [
      "        sex   age  sibsp  parch  relatives\n",
      "0      male  22.0      1      0          1\n",
      "1    female  38.0      1      0          1\n",
      "2    female  26.0      0      0          0\n",
      "3    female  35.0      1      0          1\n",
      "4      male  35.0      0      0          0\n",
      "..      ...   ...    ...    ...        ...\n",
      "886    male  27.0      0      0          0\n",
      "887  female  19.0      0      0          0\n",
      "888  female   NaN      1      2          3\n",
      "889    male  26.0      0      0          0\n",
      "890    male  32.0      0      0          0\n",
      "\n",
      "[891 rows x 5 columns]\n"
     ]
    }
   ],
   "execution_count": 20
  },
  {
   "cell_type": "markdown",
   "source": [
    "# Завдання 6\n",
    "Видаліть стовпчик, в якому найбільше пропусків. Якщо пропущені значення ще залишаться, видаліть рядки з пропусками"
   ],
   "metadata": {
    "id": "GggTkcdOV3D0"
   }
  },
  {
   "cell_type": "code",
   "source": [
    "column_with_most_nans = df.isnull().sum().idxmax()\n",
    "print(column_with_most_nans)\n",
    "\n",
    "df = df.drop(columns=[column_with_most_nans])\n",
    "\n",
    "df = df.dropna()\n",
    "\n",
    "print(\"\\nCleaned DataFrame:\")\n",
    "print(df)"
   ],
   "metadata": {
    "id": "TDeDRKJCSSpV",
    "ExecuteTime": {
     "end_time": "2025-05-21T14:53:18.369255Z",
     "start_time": "2025-05-21T14:53:18.359484Z"
    }
   },
   "outputs": [
    {
     "name": "stdout",
     "output_type": "stream",
     "text": [
      "age\n",
      "\n",
      "Cleaned DataFrame:\n",
      "     pclass     sex  sibsp  parch     fare embarked  relatives\n",
      "0         3    male      1      0   7.2500        S          1\n",
      "1         1  female      1      0  71.2833        C          1\n",
      "2         3  female      0      0   7.9250        S          0\n",
      "3         1  female      1      0  53.1000        S          1\n",
      "4         3    male      0      0   8.0500        S          0\n",
      "..      ...     ...    ...    ...      ...      ...        ...\n",
      "886       2    male      0      0  13.0000        S          0\n",
      "887       1  female      0      0  30.0000        S          0\n",
      "888       3  female      1      2  23.4500        S          3\n",
      "889       1    male      0      0  30.0000        C          0\n",
      "890       3    male      0      0   7.7500        Q          0\n",
      "\n",
      "[889 rows x 7 columns]\n"
     ]
    }
   ],
   "execution_count": 21
  }
 ]
}
