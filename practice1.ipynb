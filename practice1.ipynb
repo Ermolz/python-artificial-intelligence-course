{
 "cells": [
  {
   "metadata": {},
   "cell_type": "markdown",
   "source": [
    "Завдання: Створи клас Person (Людина)\n",
    "\n",
    "Створи клас Person з такими атрибутами:\n",
    "\n",
    "- name — ім’я\n",
    "- age — вік\n",
    "- gender — стать\n",
    "- email — електронна адреса\n",
    "\n",
    "Додай методи до класу:\n",
    "\n",
    "- Introduce - виводить коротку інформацію про людину\n",
    "- is_adult - повертає True, якщо вік ≥ 18\n",
    "- update_email - змінює електронну адресу\n",
    "- ____str____ - спеціальний метод для красивого виводу\n",
    "об’єкта\n",
    "- Створи кілька об’єктів класу та протестуй методи\n",
    "- Створи список з об’єктів Person, відфільтруй усіх\n",
    "дорослих\n"
   ],
   "id": "9f6071bf7b068e79"
  },
  {
   "metadata": {
    "ExecuteTime": {
     "end_time": "2025-05-20T15:09:16.938505Z",
     "start_time": "2025-05-20T15:09:16.927942Z"
    }
   },
   "cell_type": "code",
   "source": [
    "class Person:\n",
    "    def __init__(self, name, age, gender, email):\n",
    "        self.name = name\n",
    "        self.age = age\n",
    "        self.gender = gender\n",
    "        self.email = email\n",
    "\n",
    "    def introduce(self):\n",
    "        return f\"Hello, my name is {self.name}, I am {self.age} years old, I am { self.gender}.\"\n",
    "\n",
    "    def is_adult(self):\n",
    "        return self.age >= 18\n",
    "\n",
    "    def update_email(self, new_email):\n",
    "        self.email = new_email\n",
    "        print(f\"Email for {self.name} updated to {self.email}\")\n",
    "\n",
    "    def __str__(self):\n",
    "                return (f\"Person(name={self.name!r}, age={self.age}, \"\n",
    "                f\"gender={self.gender!r}, email={self.email!r})\")\n",
    "\n",
    "\n",
    "\n",
    "alice = Person(\"Alice\", 30, \"жінка\", \"alice@example.com\")\n",
    "bob   = Person(\"Bob\", 16, \"чоловік\", \"bob@example.com\")\n",
    "carol = Person(\"Carol\", 22, \"жінка\", \"carol@example.com\")\n",
    "\n",
    "alice.introduce()\n",
    "print(bob.is_adult())\n",
    "carol.update_email(\"c.smith@newmail.com\")\n",
    "\n",
    "\n",
    "print(alice)\n",
    "print(bob)\n",
    "\n",
    "\n",
    "people = [alice, bob, carol]\n",
    "adults = [p for p in people if p.is_adult()]\n",
    "print(\"\\nСписок дорослих:\")\n",
    "for adult in adults:\n",
    "    print(f\" - {adult.name}, {adult.age} років\")"
   ],
   "id": "initial_id",
   "outputs": [
    {
     "name": "stdout",
     "output_type": "stream",
     "text": [
      "False\n",
      "Email for Carol updated to c.smith@newmail.com\n",
      "Person(name='Alice', age=30, gender='жінка', email='alice@example.com')\n",
      "Person(name='Bob', age=16, gender='чоловік', email='bob@example.com')\n",
      "\n",
      "Список дорослих:\n",
      " - Alice, 30 років\n",
      " - Carol, 22 років\n"
     ]
    }
   ],
   "execution_count": 2
  }
 ],
 "metadata": {
  "kernelspec": {
   "display_name": "Python 3",
   "language": "python",
   "name": "python3"
  },
  "language_info": {
   "codemirror_mode": {
    "name": "ipython",
    "version": 2
   },
   "file_extension": ".py",
   "mimetype": "text/x-python",
   "name": "python",
   "nbconvert_exporter": "python",
   "pygments_lexer": "ipython2",
   "version": "2.7.6"
  }
 },
 "nbformat": 4,
 "nbformat_minor": 5
}
