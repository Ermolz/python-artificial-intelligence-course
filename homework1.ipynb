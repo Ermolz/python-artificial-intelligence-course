{
 "cells": [
  {
   "metadata": {},
   "cell_type": "markdown",
   "source": [
    "# Task\n",
    "Завдання: Створи клас Calculator\n",
    "Базова структура класу\n",
    "-\tПерше число\n",
    "-\tДруге число\n",
    "\n",
    "Методи калькулятора:\n",
    "- add – додавання\n",
    "- subtract – віднімання\n",
    "- multiply - множення\n",
    "- divide - ділення\n",
    "- update_numbers - метод для оновлення чисел\n"
   ],
   "id": "ae96a557652f50d3"
  },
  {
   "metadata": {
    "ExecuteTime": {
     "end_time": "2025-05-21T13:25:23.602489Z",
     "start_time": "2025-05-21T13:25:23.589033Z"
    }
   },
   "cell_type": "code",
   "source": [
    "class Calculator:\n",
    "    a = 0\n",
    "    b = 0\n",
    "    result = 0\n",
    "\n",
    "    def __init__(self, a: int, b: int):\n",
    "        self.a = a\n",
    "        self.b = b\n",
    "\n",
    "    def add(self):\n",
    "        self.result = self.a + self.b\n",
    "        return self.result\n",
    "\n",
    "    def subtract(self):\n",
    "        self.result = self.a - self.b\n",
    "        return self.result\n",
    "\n",
    "    def multiply(self):\n",
    "        self.result = self.a * self.b\n",
    "        return self.result\n",
    "\n",
    "    def divide(self):\n",
    "        if self.b == 0:\n",
    "            raise ValueError(\"Division by zero is not allowed.\")\n",
    "        self.result = self.a / self.b\n",
    "        return self.result\n",
    "\n",
    "    def update_numbers(self, a: int, b: int):\n",
    "        self.a = a\n",
    "        self.b = b\n",
    "        return self.a, self.b"
   ],
   "id": "7548daede0868feb",
   "outputs": [],
   "execution_count": 1
  },
  {
   "metadata": {
    "ExecuteTime": {
     "end_time": "2025-05-21T13:25:23.676713Z",
     "start_time": "2025-05-21T13:25:23.663498Z"
    }
   },
   "cell_type": "code",
   "source": [
    "calc = Calculator(10, 5)\n",
    "print(\"Додавання:\", calc.add())\n",
    "print(\"Віднімання:\", calc.subtract())\n",
    "print(\"Множення:\", calc.multiply())\n",
    "print(\"Ділення:\", calc.divide())\n",
    "\n",
    "calc.update_numbers(20, 4)\n",
    "print(\"Нове додавання:\", calc.add())"
   ],
   "id": "81150617eb0e7d9c",
   "outputs": [
    {
     "name": "stdout",
     "output_type": "stream",
     "text": [
      "Додавання: 15\n",
      "Віднімання: 5\n",
      "Множення: 50\n",
      "Ділення: 2.0\n",
      "Нове додавання: 24\n"
     ]
    }
   ],
   "execution_count": 2
  }
 ],
 "metadata": {
  "kernelspec": {
   "display_name": "Python 3",
   "language": "python",
   "name": "python3"
  },
  "language_info": {
   "codemirror_mode": {
    "name": "ipython",
    "version": 2
   },
   "file_extension": ".py",
   "mimetype": "text/x-python",
   "name": "python",
   "nbconvert_exporter": "python",
   "pygments_lexer": "ipython2",
   "version": "2.7.6"
  }
 },
 "nbformat": 4,
 "nbformat_minor": 5
}
