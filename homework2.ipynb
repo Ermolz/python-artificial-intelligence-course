{
 "cells": [
  {
   "metadata": {},
   "cell_type": "markdown",
   "source": "Imports goes here",
   "id": "65b48d5158f32908"
  },
  {
   "metadata": {
    "ExecuteTime": {
     "end_time": "2025-05-21T14:13:56.718776Z",
     "start_time": "2025-05-21T14:13:56.711267Z"
    }
   },
   "cell_type": "code",
   "source": [
    "import pandas as pd\n",
    "import random"
   ],
   "id": "21bb21276e7922a7",
   "outputs": [],
   "execution_count": 11
  },
  {
   "metadata": {},
   "cell_type": "markdown",
   "source": [
    "Створи Series з 5 чисел:  [10, 20, 30, 40, 50]\n",
    "\n",
    "Присвой до кожного елемента індекси у вигляді днів\n",
    "тижня:\n",
    "['Пн', 'Вт', 'Ср', 'Чт', 'Пт']\n",
    "\n",
    "Виведи значення по індексу 'Ср'\n",
    "\n",
    "Виведи усі індекси та значення окремо"
   ],
   "id": "5fb0591586a0ca8b"
  },
  {
   "metadata": {
    "ExecuteTime": {
     "end_time": "2025-05-21T14:13:56.773804Z",
     "start_time": "2025-05-21T14:13:56.761835Z"
    }
   },
   "cell_type": "code",
   "source": [
    "import pandas as pd\n",
    "\n",
    "data = pd.Series([10, 20, 30, 40, 50], index=['Mon', 'Tue', 'Wed', 'Thu', 'Fri'])\n",
    "\n",
    "print(\"Value at index 'Wed':\", data['Wed'])\n",
    "\n",
    "print(\"\\nAll indices:\")\n",
    "print(data.index)\n",
    "\n",
    "print(\"\\nAll values:\")\n",
    "print(data.values)\n"
   ],
   "id": "initial_id",
   "outputs": [
    {
     "name": "stdout",
     "output_type": "stream",
     "text": [
      "Value at index 'Wed': 30\n",
      "\n",
      "All indices:\n",
      "Index(['Mon', 'Tue', 'Wed', 'Thu', 'Fri'], dtype='object')\n",
      "\n",
      "All values:\n",
      "[10 20 30 40 50]\n"
     ]
    }
   ],
   "execution_count": 12
  },
  {
   "metadata": {},
   "cell_type": "markdown",
   "source": [
    "Завдання з DataFrame у Python (pandas)\n",
    "\n",
    "Створи DataFrame, що містить такі дані:\n",
    "\n",
    "\n",
    "| Імʼя  | Вік | Стать   |\n",
    "|------|-----|---------|\n",
    "| Оля  | 22  | Жінка   |\n",
    "| Іван | 35  | Чоловік |\n",
    "| Марія| 28  | Жінка   |\n",
    "\n",
    "Виведи перші 2 рядки\n",
    "\n",
    "Виведи останній рядок\n",
    "\n",
    "Сформуй випадковий рядок\n",
    "\n",
    "Застосуй info() та describe()"
   ],
   "id": "f1be576531f803d3"
  },
  {
   "metadata": {
    "ExecuteTime": {
     "end_time": "2025-05-21T14:13:56.884058Z",
     "start_time": "2025-05-21T14:13:56.862087Z"
    }
   },
   "cell_type": "code",
   "source": [
    "data = pd.DataFrame({\n",
    "    'Name': ['Оля', 'Іван', 'Марія'],\n",
    "    'Age': [22, 35, 28],\n",
    "    'Gender': ['Жінка', 'Чоловік', 'Жінка']\n",
    "})\n",
    "\n",
    "print(\"First 2 rows:\")\n",
    "print(data.head(2))\n",
    "\n",
    "print(\"\\nLast row:\")\n",
    "print(data.tail(1))\n",
    "\n",
    "print(\"\\nRandom row:\")\n",
    "print(data.sample(1))\n",
    "\n",
    "print(\"\\nDataFrame info:\")\n",
    "data.info()\n",
    "\n",
    "print(\"\\nStatistical description:\")\n",
    "print(data.describe())\n"
   ],
   "id": "c1d466cc608c353c",
   "outputs": [
    {
     "name": "stdout",
     "output_type": "stream",
     "text": [
      "First 2 rows:\n",
      "   Name  Age   Gender\n",
      "0   Оля   22    Жінка\n",
      "1  Іван   35  Чоловік\n",
      "\n",
      "Last row:\n",
      "    Name  Age Gender\n",
      "2  Марія   28  Жінка\n",
      "\n",
      "Random row:\n",
      "    Name  Age Gender\n",
      "2  Марія   28  Жінка\n",
      "\n",
      "DataFrame info:\n",
      "<class 'pandas.core.frame.DataFrame'>\n",
      "RangeIndex: 3 entries, 0 to 2\n",
      "Data columns (total 3 columns):\n",
      " #   Column  Non-Null Count  Dtype \n",
      "---  ------  --------------  ----- \n",
      " 0   Name    3 non-null      object\n",
      " 1   Age     3 non-null      int64 \n",
      " 2   Gender  3 non-null      object\n",
      "dtypes: int64(1), object(2)\n",
      "memory usage: 204.0+ bytes\n",
      "\n",
      "Statistical description:\n",
      "             Age\n",
      "count   3.000000\n",
      "mean   28.333333\n",
      "std     6.506407\n",
      "min    22.000000\n",
      "25%    25.000000\n",
      "50%    28.000000\n",
      "75%    31.500000\n",
      "max    35.000000\n"
     ]
    }
   ],
   "execution_count": 13
  },
  {
   "metadata": {},
   "cell_type": "markdown",
   "source": [
    "Завантаж CSV-файл з назвою data.csv (або створи\n",
    "фейковий вручну)\n",
    "\n",
    "Зчитай його у DataFrame\n",
    "\n",
    "Виведи розмір таблиці, перші 5 рядків\n",
    "\n",
    "Збережи таблицю у новий файл нові_дані.csv, не\n",
    "включаючи індекси"
   ],
   "id": "2cda2b3943c4fe7f"
  },
  {
   "metadata": {
    "ExecuteTime": {
     "end_time": "2025-05-21T14:13:56.955747Z",
     "start_time": "2025-05-21T14:13:56.943891Z"
    }
   },
   "cell_type": "code",
   "source": [
    "df = pd.read_csv('data/data.csv')\n",
    "\n",
    "print(\"Table size (shape):\", df.shape)\n",
    "\n",
    "print(\"\\nFirst 5 rows:\")\n",
    "print(df.head())\n",
    "\n",
    "df.to_csv('data/new_data.csv', index=False)"
   ],
   "id": "6773e04d6e5b74e5",
   "outputs": [
    {
     "name": "stdout",
     "output_type": "stream",
     "text": [
      "Table size (shape): (6, 3)\n",
      "\n",
      "First 5 rows:\n",
      "       Name  Age  Gender\n",
      "0      Olya   22  Female\n",
      "1      Ivan   35    Male\n",
      "2     Maria   28  Female\n",
      "3    Andrii   40    Male\n",
      "4  Svitlana   30  Female\n"
     ]
    }
   ],
   "execution_count": 14
  },
  {
   "metadata": {},
   "cell_type": "markdown",
   "source": [
    "Завантаж або створи DataFrame з такими колонками:\n",
    "\n",
    "- Продукт\n",
    "- Ціна\n",
    "- Кількість\n",
    "\n",
    "\n",
    "Знайди:\n",
    "- Усі товари, де ціна > 100\n",
    "- Товари з кількістю менше 10\n",
    "- Створи нову колонку Сума = Ціна × Кількість\n",
    "- Збережи відфільтровані товари в окремий CSV"
   ],
   "id": "907dfcdd14648a8b"
  },
  {
   "metadata": {
    "ExecuteTime": {
     "end_time": "2025-05-21T14:15:37.406991Z",
     "start_time": "2025-05-21T14:15:37.387657Z"
    }
   },
   "cell_type": "code",
   "source": [
    "df = pd.read_csv('data/products.csv')\n",
    "\n",
    "expensive_products = df[df['Price'] > 100]\n",
    "print(\"Expensive products:\", expensive_products)\n",
    "\n",
    "low_stock_products = df[df['Quantity'] < 10]\n",
    "print(\"Low stock products:\", low_stock_products)\n",
    "\n",
    "df['Total'] = df['Price'] * df['Quantity']\n",
    "print(\"DataFrame with Total column:\", df)\n",
    "\n",
    "\n",
    "low_stock_products.to_csv('data/low_stock_products.csv', index=False)"
   ],
   "id": "154e9e7d647d9d16",
   "outputs": [
    {
     "name": "stdout",
     "output_type": "stream",
     "text": [
      "Expensive products:       Product  Price  Quantity\n",
      "0      Laptop   1200         5\n",
      "3     Monitor    300         8\n",
      "5      Webcam    150         3\n",
      "6      Tablet    250         7\n",
      "7  Smartphone    800        15\n",
      "Low stock products:    Product  Price  Quantity\n",
      "0   Laptop   1200         5\n",
      "3  Monitor    300         8\n",
      "5   Webcam    150         3\n",
      "6   Tablet    250         7\n",
      "8  Charger     30         4\n",
      "DataFrame with Total column:       Product  Price  Quantity  Total\n",
      "0      Laptop   1200         5   6000\n",
      "1       Mouse     25        50   1250\n",
      "2    Keyboard     70        20   1400\n",
      "3     Monitor    300         8   2400\n",
      "4   USB Cable     10       100   1000\n",
      "5      Webcam    150         3    450\n",
      "6      Tablet    250         7   1750\n",
      "7  Smartphone    800        15  12000\n",
      "8     Charger     30         4    120\n"
     ]
    }
   ],
   "execution_count": 18
  }
 ],
 "metadata": {
  "kernelspec": {
   "display_name": "Python 3",
   "language": "python",
   "name": "python3"
  },
  "language_info": {
   "codemirror_mode": {
    "name": "ipython",
    "version": 2
   },
   "file_extension": ".py",
   "mimetype": "text/x-python",
   "name": "python",
   "nbconvert_exporter": "python",
   "pygments_lexer": "ipython2",
   "version": "2.7.6"
  }
 },
 "nbformat": 4,
 "nbformat_minor": 5
}
