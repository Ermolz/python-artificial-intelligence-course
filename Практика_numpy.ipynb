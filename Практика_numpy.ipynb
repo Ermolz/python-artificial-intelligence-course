{
 "nbformat": 4,
 "nbformat_minor": 0,
 "metadata": {
  "colab": {
   "provenance": [],
   "toc_visible": true,
   "authorship_tag": "ABX9TyO1YwI2jr54Eqg+7A6K+8kN",
   "include_colab_link": true
  },
  "kernelspec": {
   "name": "python3",
   "display_name": "Python 3"
  },
  "language_info": {
   "name": "python"
  }
 },
 "cells": [
  {
   "cell_type": "markdown",
   "metadata": {
    "id": "view-in-github",
    "colab_type": "text"
   },
   "source": [
    "<a href=\"https://colab.research.google.com/github/HalyshAnton/IT-Step-Pyton-AI/blob/main/module2/%D0%9F%D1%80%D0%B0%D0%BA%D1%82%D0%B8%D0%BA%D0%B0_numpy.ipynb\" target=\"_parent\"><img src=\"https://colab.research.google.com/assets/colab-badge.svg\" alt=\"Open In Colab\"/></a>"
   ]
  },
  {
   "cell_type": "markdown",
   "source": [
    "Імпортуйте модуль numpy"
   ],
   "metadata": {
    "id": "rIioSM27QJ8x"
   }
  },
  {
   "cell_type": "code",
   "metadata": {
    "id": "rDtfBq8ANBhL",
    "ExecuteTime": {
     "end_time": "2025-05-21T15:01:39.935015Z",
     "start_time": "2025-05-21T15:01:39.931181Z"
    }
   },
   "source": "import numpy as np",
   "outputs": [],
   "execution_count": 83
  },
  {
   "cell_type": "markdown",
   "source": [
    "# Завдання 1\n",
    "Створіть масив з елементами від 1 до 12. Виведіть розмір та тип масиву"
   ],
   "metadata": {
    "id": "npT_FnlcNwke"
   }
  },
  {
   "cell_type": "code",
   "source": [
    "array = np.arange(1, 13)\n",
    "print(array)"
   ],
   "metadata": {
    "id": "02EdQMKlOZHr",
    "outputId": "f4b05a9f-e152-4ca6-9926-8737289ce6ca",
    "colab": {
     "base_uri": "https://localhost:8080/"
    },
    "ExecuteTime": {
     "end_time": "2025-05-21T15:01:39.965476Z",
     "start_time": "2025-05-21T15:01:39.960840Z"
    }
   },
   "outputs": [
    {
     "name": "stdout",
     "output_type": "stream",
     "text": [
      "[ 1  2  3  4  5  6  7  8  9 10 11 12]\n"
     ]
    }
   ],
   "execution_count": 84
  },
  {
   "cell_type": "markdown",
   "source": [
    "# Завдання 2\n",
    "Зробіть на основі попереднього масиву матрицю з 4 стовчиками. Змініть тип даних матриці на float32. Виведіть результат"
   ],
   "metadata": {
    "id": "HH8hOwVhNxWE"
   }
  },
  {
   "cell_type": "code",
   "source": [
    "matrix = array.reshape(-1, 4)\n",
    "\n",
    "matrix = matrix.astype(np.float32)\n",
    "\n",
    "print(\"\\nMatrix with 4 columns and dtype float32:\")\n",
    "print(matrix)"
   ],
   "metadata": {
    "id": "4jYqwTycOYbN",
    "outputId": "8c50b001-2f7b-4c6b-9d91-930746e863ed",
    "colab": {
     "base_uri": "https://localhost:8080/"
    },
    "ExecuteTime": {
     "end_time": "2025-05-21T15:01:40.021008Z",
     "start_time": "2025-05-21T15:01:40.016477Z"
    }
   },
   "outputs": [
    {
     "name": "stdout",
     "output_type": "stream",
     "text": [
      "\n",
      "Matrix with 4 columns and dtype float32:\n",
      "[[ 1.  2.  3.  4.]\n",
      " [ 5.  6.  7.  8.]\n",
      " [ 9. 10. 11. 12.]]\n"
     ]
    }
   ],
   "execution_count": 85
  },
  {
   "cell_type": "markdown",
   "source": [
    "# Завдання 3\n",
    "Створіть наступні матриці 8х8"
   ],
   "metadata": {
    "id": "T35Vjkz1Nxez"
   }
  },
  {
   "cell_type": "code",
   "source": [
    "# за замовчуванням всюди нулі\n",
    "matrix = np.zeros((8, 8), dtype=int)\n",
    "print(\"Original 8x8 matrix:\")\n",
    "print(matrix)"
   ],
   "metadata": {
    "id": "mrbnfiPQPu_n",
    "outputId": "d9d3a897-f912-4b7f-8e57-325c389ccd88",
    "colab": {
     "base_uri": "https://localhost:8080/"
    },
    "ExecuteTime": {
     "end_time": "2025-05-21T15:01:40.073525Z",
     "start_time": "2025-05-21T15:01:40.067522Z"
    }
   },
   "outputs": [
    {
     "name": "stdout",
     "output_type": "stream",
     "text": [
      "Original 8x8 matrix:\n",
      "[[0 0 0 0 0 0 0 0]\n",
      " [0 0 0 0 0 0 0 0]\n",
      " [0 0 0 0 0 0 0 0]\n",
      " [0 0 0 0 0 0 0 0]\n",
      " [0 0 0 0 0 0 0 0]\n",
      " [0 0 0 0 0 0 0 0]\n",
      " [0 0 0 0 0 0 0 0]\n",
      " [0 0 0 0 0 0 0 0]]\n"
     ]
    }
   ],
   "execution_count": 86
  },
  {
   "cell_type": "code",
   "source": [
    "# одиниця в рядку 2 стовпчик 3\n",
    "\n",
    "matrix[1,2] = 1\n",
    "\n",
    "print(matrix)\n",
    "matrix = np.zeros((8, 8), dtype=int)"
   ],
   "metadata": {
    "id": "rIPcKv37tINF",
    "outputId": "f19937b5-78f9-48c7-af59-29ab91fff647",
    "colab": {
     "base_uri": "https://localhost:8080/"
    },
    "ExecuteTime": {
     "end_time": "2025-05-21T15:01:40.129766Z",
     "start_time": "2025-05-21T15:01:40.124725Z"
    }
   },
   "outputs": [
    {
     "name": "stdout",
     "output_type": "stream",
     "text": [
      "[[0 0 0 0 0 0 0 0]\n",
      " [0 0 1 0 0 0 0 0]\n",
      " [0 0 0 0 0 0 0 0]\n",
      " [0 0 0 0 0 0 0 0]\n",
      " [0 0 0 0 0 0 0 0]\n",
      " [0 0 0 0 0 0 0 0]\n",
      " [0 0 0 0 0 0 0 0]\n",
      " [0 0 0 0 0 0 0 0]]\n"
     ]
    }
   ],
   "execution_count": 87
  },
  {
   "cell_type": "code",
   "source": [
    "# рядок 3 з одиниць\n",
    "matrix[2, :] = 1\n",
    "print(matrix)\n",
    "matrix = np.zeros((8, 8), dtype=int)"
   ],
   "metadata": {
    "id": "kjvI2gRiszFV",
    "outputId": "4cc51923-16da-468b-e632-9db95f679473",
    "colab": {
     "base_uri": "https://localhost:8080/"
    },
    "ExecuteTime": {
     "end_time": "2025-05-21T15:01:40.190114Z",
     "start_time": "2025-05-21T15:01:40.184820Z"
    }
   },
   "outputs": [
    {
     "name": "stdout",
     "output_type": "stream",
     "text": [
      "[[0 0 0 0 0 0 0 0]\n",
      " [0 0 0 0 0 0 0 0]\n",
      " [1 1 1 1 1 1 1 1]\n",
      " [0 0 0 0 0 0 0 0]\n",
      " [0 0 0 0 0 0 0 0]\n",
      " [0 0 0 0 0 0 0 0]\n",
      " [0 0 0 0 0 0 0 0]\n",
      " [0 0 0 0 0 0 0 0]]\n"
     ]
    }
   ],
   "execution_count": 88
  },
  {
   "cell_type": "code",
   "source": [
    "# стовпчик 2 з одиниць\n",
    "matrix[:, 1] = 1\n",
    "print(matrix)\n",
    "matrix = np.zeros((8, 8), dtype=int)"
   ],
   "metadata": {
    "id": "Lw-3IMuXsy9v",
    "outputId": "8004b43e-88b2-45cd-96c3-3b32d5a2a1fd",
    "colab": {
     "base_uri": "https://localhost:8080/"
    },
    "ExecuteTime": {
     "end_time": "2025-05-21T15:01:40.293430Z",
     "start_time": "2025-05-21T15:01:40.287429Z"
    }
   },
   "outputs": [
    {
     "name": "stdout",
     "output_type": "stream",
     "text": [
      "[[0 1 0 0 0 0 0 0]\n",
      " [0 1 0 0 0 0 0 0]\n",
      " [0 1 0 0 0 0 0 0]\n",
      " [0 1 0 0 0 0 0 0]\n",
      " [0 1 0 0 0 0 0 0]\n",
      " [0 1 0 0 0 0 0 0]\n",
      " [0 1 0 0 0 0 0 0]\n",
      " [0 1 0 0 0 0 0 0]]\n"
     ]
    }
   ],
   "execution_count": 89
  },
  {
   "cell_type": "code",
   "source": [
    "# рядки з 2 по 4 з одиниць\n",
    "matrix[1:4, :] = 1\n",
    "print(matrix)\n",
    "matrix = np.zeros((8, 8), dtype=int)"
   ],
   "metadata": {
    "id": "wEkxof2FtWM3",
    "outputId": "b96f59a6-f3cb-4137-b0a3-49ab66c9af90",
    "colab": {
     "base_uri": "https://localhost:8080/"
    },
    "ExecuteTime": {
     "end_time": "2025-05-21T15:01:40.349729Z",
     "start_time": "2025-05-21T15:01:40.344690Z"
    }
   },
   "outputs": [
    {
     "name": "stdout",
     "output_type": "stream",
     "text": [
      "[[0 0 0 0 0 0 0 0]\n",
      " [1 1 1 1 1 1 1 1]\n",
      " [1 1 1 1 1 1 1 1]\n",
      " [1 1 1 1 1 1 1 1]\n",
      " [0 0 0 0 0 0 0 0]\n",
      " [0 0 0 0 0 0 0 0]\n",
      " [0 0 0 0 0 0 0 0]\n",
      " [0 0 0 0 0 0 0 0]]\n"
     ]
    }
   ],
   "execution_count": 90
  },
  {
   "cell_type": "code",
   "source": [
    "# стовпчики 3 і 4 з одиниць\n",
    "matrix[:, 2:4] = 1\n",
    "print(matrix)\n",
    "matrix = np.zeros((8, 8), dtype=int)"
   ],
   "metadata": {
    "id": "c42FonyPtV7l",
    "outputId": "16070f3e-d8fb-4b31-cf0b-ea96c74694d2",
    "colab": {
     "base_uri": "https://localhost:8080/"
    },
    "ExecuteTime": {
     "end_time": "2025-05-21T15:01:40.431994Z",
     "start_time": "2025-05-21T15:01:40.427087Z"
    }
   },
   "outputs": [
    {
     "name": "stdout",
     "output_type": "stream",
     "text": [
      "[[0 0 1 1 0 0 0 0]\n",
      " [0 0 1 1 0 0 0 0]\n",
      " [0 0 1 1 0 0 0 0]\n",
      " [0 0 1 1 0 0 0 0]\n",
      " [0 0 1 1 0 0 0 0]\n",
      " [0 0 1 1 0 0 0 0]\n",
      " [0 0 1 1 0 0 0 0]\n",
      " [0 0 1 1 0 0 0 0]]\n"
     ]
    }
   ],
   "execution_count": 91
  },
  {
   "cell_type": "code",
   "source": [
    "# ділянка між рядками 1,4 та стовпчиками 2,4\n",
    "matrix[1:4, 2:4] = 1\n",
    "print(matrix)\n",
    "matrix = np.zeros((8, 8), dtype=int)"
   ],
   "metadata": {
    "id": "nG6TLsIztiF9",
    "outputId": "dd452710-b053-4a95-c5f3-46a07d4f2483",
    "colab": {
     "base_uri": "https://localhost:8080/"
    },
    "ExecuteTime": {
     "end_time": "2025-05-21T15:01:40.502438Z",
     "start_time": "2025-05-21T15:01:40.495905Z"
    }
   },
   "outputs": [
    {
     "name": "stdout",
     "output_type": "stream",
     "text": [
      "[[0 0 0 0 0 0 0 0]\n",
      " [0 0 1 1 0 0 0 0]\n",
      " [0 0 1 1 0 0 0 0]\n",
      " [0 0 1 1 0 0 0 0]\n",
      " [0 0 0 0 0 0 0 0]\n",
      " [0 0 0 0 0 0 0 0]\n",
      " [0 0 0 0 0 0 0 0]\n",
      " [0 0 0 0 0 0 0 0]]\n"
     ]
    }
   ],
   "execution_count": 92
  },
  {
   "cell_type": "code",
   "source": [
    "# кожен непарний рядок\n",
    "matrix[::2, :] = 1\n",
    "print(matrix)\n",
    "matrix = np.zeros((8, 8), dtype=int)"
   ],
   "metadata": {
    "id": "d0jVvBtetudX",
    "outputId": "c18fdcd9-8326-408d-e032-5476ea03cea5",
    "colab": {
     "base_uri": "https://localhost:8080/"
    },
    "ExecuteTime": {
     "end_time": "2025-05-21T15:01:40.570925Z",
     "start_time": "2025-05-21T15:01:40.565484Z"
    }
   },
   "outputs": [
    {
     "name": "stdout",
     "output_type": "stream",
     "text": [
      "[[1 1 1 1 1 1 1 1]\n",
      " [0 0 0 0 0 0 0 0]\n",
      " [1 1 1 1 1 1 1 1]\n",
      " [0 0 0 0 0 0 0 0]\n",
      " [1 1 1 1 1 1 1 1]\n",
      " [0 0 0 0 0 0 0 0]\n",
      " [1 1 1 1 1 1 1 1]\n",
      " [0 0 0 0 0 0 0 0]]\n"
     ]
    }
   ],
   "execution_count": 93
  },
  {
   "cell_type": "code",
   "source": [
    "# кожен парний стовпчик\n",
    "matrix[:, ::2] = 1\n",
    "print(matrix)\n",
    "matrix = np.zeros((8, 8), dtype=int)"
   ],
   "metadata": {
    "id": "Lp1tV7yot1k9",
    "outputId": "11279cbc-9617-43b1-f7df-057ad2019c51",
    "colab": {
     "base_uri": "https://localhost:8080/"
    },
    "ExecuteTime": {
     "end_time": "2025-05-21T15:01:40.646627Z",
     "start_time": "2025-05-21T15:01:40.641927Z"
    }
   },
   "outputs": [
    {
     "name": "stdout",
     "output_type": "stream",
     "text": [
      "[[1 0 1 0 1 0 1 0]\n",
      " [1 0 1 0 1 0 1 0]\n",
      " [1 0 1 0 1 0 1 0]\n",
      " [1 0 1 0 1 0 1 0]\n",
      " [1 0 1 0 1 0 1 0]\n",
      " [1 0 1 0 1 0 1 0]\n",
      " [1 0 1 0 1 0 1 0]\n",
      " [1 0 1 0 1 0 1 0]]\n"
     ]
    }
   ],
   "execution_count": 94
  },
  {
   "cell_type": "code",
   "source": [
    "# рядки 4,5 та стовпчики 4,5\n",
    "matrix[3:5, 3:5] = 1\n",
    "print(matrix)\n",
    "matrix = np.zeros((8, 8), dtype=int)"
   ],
   "metadata": {
    "id": "kMXmfaOBuIFf",
    "outputId": "002bfd20-fe0c-44ce-f3b7-ee8f4b99f6f2",
    "colab": {
     "base_uri": "https://localhost:8080/"
    },
    "ExecuteTime": {
     "end_time": "2025-05-21T15:01:40.727758Z",
     "start_time": "2025-05-21T15:01:40.721881Z"
    }
   },
   "outputs": [
    {
     "name": "stdout",
     "output_type": "stream",
     "text": [
      "[[0 0 0 0 0 0 0 0]\n",
      " [0 0 0 0 0 0 0 0]\n",
      " [0 0 0 0 0 0 0 0]\n",
      " [0 0 0 1 1 0 0 0]\n",
      " [0 0 0 1 1 0 0 0]\n",
      " [0 0 0 0 0 0 0 0]\n",
      " [0 0 0 0 0 0 0 0]\n",
      " [0 0 0 0 0 0 0 0]]\n"
     ]
    }
   ],
   "execution_count": 95
  },
  {
   "cell_type": "code",
   "source": [
    "# шахматний порядок\n",
    "matrix[1::2, ::2] = 1\n",
    "matrix[::2, 1::2] = 1\n",
    "print(matrix)\n",
    "matrix = np.zeros((8, 8), dtype=int)"
   ],
   "metadata": {
    "id": "2cJfcniXt_FY",
    "outputId": "b5d34314-fc31-4bce-e407-4af71a52bc26",
    "colab": {
     "base_uri": "https://localhost:8080/"
    },
    "ExecuteTime": {
     "end_time": "2025-05-21T15:01:40.786457Z",
     "start_time": "2025-05-21T15:01:40.781303Z"
    }
   },
   "outputs": [
    {
     "name": "stdout",
     "output_type": "stream",
     "text": [
      "[[0 1 0 1 0 1 0 1]\n",
      " [1 0 1 0 1 0 1 0]\n",
      " [0 1 0 1 0 1 0 1]\n",
      " [1 0 1 0 1 0 1 0]\n",
      " [0 1 0 1 0 1 0 1]\n",
      " [1 0 1 0 1 0 1 0]\n",
      " [0 1 0 1 0 1 0 1]\n",
      " [1 0 1 0 1 0 1 0]]\n"
     ]
    }
   ],
   "execution_count": 96
  },
  {
   "cell_type": "code",
   "source": [
    "# діагональ\n",
    "np.fill_diagonal(matrix, 1)\n",
    "\n",
    "print(\"Final 8x8 matrix:\")\n",
    "print(matrix)"
   ],
   "metadata": {
    "id": "fQSGMb8ct6EN",
    "outputId": "1155ce32-cbbb-4ba2-e288-5f9b1e92a4e8",
    "colab": {
     "base_uri": "https://localhost:8080/"
    },
    "ExecuteTime": {
     "end_time": "2025-05-21T15:01:40.881019Z",
     "start_time": "2025-05-21T15:01:40.876632Z"
    }
   },
   "outputs": [
    {
     "name": "stdout",
     "output_type": "stream",
     "text": [
      "Final 8x8 matrix:\n",
      "[[1 0 0 0 0 0 0 0]\n",
      " [0 1 0 0 0 0 0 0]\n",
      " [0 0 1 0 0 0 0 0]\n",
      " [0 0 0 1 0 0 0 0]\n",
      " [0 0 0 0 1 0 0 0]\n",
      " [0 0 0 0 0 1 0 0]\n",
      " [0 0 0 0 0 0 1 0]\n",
      " [0 0 0 0 0 0 0 1]]\n"
     ]
    }
   ],
   "execution_count": 97
  },
  {
   "cell_type": "markdown",
   "source": [
    "# Завдання 4\n",
    "\n",
    "Створіть випадкову матрицю 4х3. Замініть усі значення менші за середнє арифметичне на -1"
   ],
   "metadata": {
    "id": "SCU3uu-ZwRou"
   }
  },
  {
   "cell_type": "code",
   "source": [
    "matrix = np.random.rand(4, 3)\n",
    "print(\"Original matrix:\")\n",
    "print(matrix)\n",
    "\n",
    "mean_value = matrix.mean()\n",
    "print(\"\\nMean value:\", mean_value)\n",
    "\n",
    "matrix[matrix < mean_value] = -1\n",
    "\n",
    "print(\"\\nModified matrix:\")\n",
    "print(matrix)"
   ],
   "metadata": {
    "id": "MECaxTSXwamG",
    "outputId": "3a82f0d1-37d9-42d6-eccf-f3ba22cf203e",
    "colab": {
     "base_uri": "https://localhost:8080/"
    },
    "ExecuteTime": {
     "end_time": "2025-05-21T15:01:40.954671Z",
     "start_time": "2025-05-21T15:01:40.949669Z"
    }
   },
   "outputs": [
    {
     "name": "stdout",
     "output_type": "stream",
     "text": [
      "Original matrix:\n",
      "[[0.92407267 0.00838423 0.08195261]\n",
      " [0.20831823 0.13889972 0.29231854]\n",
      " [0.89349839 0.29603897 0.07339923]\n",
      " [0.63785574 0.72550891 0.24900379]]\n",
      "\n",
      "Mean value: 0.37743758606789185\n",
      "\n",
      "Modified matrix:\n",
      "[[ 0.92407267 -1.         -1.        ]\n",
      " [-1.         -1.         -1.        ]\n",
      " [ 0.89349839 -1.         -1.        ]\n",
      " [ 0.63785574  0.72550891 -1.        ]]\n"
     ]
    }
   ],
   "execution_count": 98
  },
  {
   "cell_type": "markdown",
   "source": [
    "# Завдання 5\n",
    "Створіть випадкову матрицю 4х3. Знайдіть суму елементів в стовпчиках\\рядках\\усій матриці"
   ],
   "metadata": {
    "id": "g87KAY1nNxoy"
   }
  },
  {
   "cell_type": "code",
   "source": [
    "matrix = np.random.randint(1, 11, size=(4, 3))\n",
    "print(\"Original matrix:\")\n",
    "print(matrix)\n",
    "\n",
    "column_sums = matrix.sum(axis=0)\n",
    "print(\"\\nColumn sums:\")\n",
    "print(column_sums)\n",
    "\n",
    "row_sums = matrix.sum(axis=1)\n",
    "print(\"\\nRow sums:\")\n",
    "print(row_sums)\n",
    "\n",
    "total_sum = matrix.sum()\n",
    "print(\"\\nTotal sum:\")\n",
    "print(total_sum)"
   ],
   "metadata": {
    "id": "RGA3022VQIZV",
    "outputId": "58af72bd-6c17-4a86-c7ce-7048fc9e914d",
    "colab": {
     "base_uri": "https://localhost:8080/"
    },
    "ExecuteTime": {
     "end_time": "2025-05-21T15:01:41.014280Z",
     "start_time": "2025-05-21T15:01:41.007269Z"
    }
   },
   "outputs": [
    {
     "name": "stdout",
     "output_type": "stream",
     "text": [
      "Original matrix:\n",
      "[[ 1  3  9]\n",
      " [ 7  6  8]\n",
      " [ 8  3  1]\n",
      " [ 7 10  5]]\n",
      "\n",
      "Column sums:\n",
      "[23 22 23]\n",
      "\n",
      "Row sums:\n",
      "[13 21 12 22]\n",
      "\n",
      "Total sum:\n",
      "68\n"
     ]
    }
   ],
   "execution_count": 99
  },
  {
   "cell_type": "markdown",
   "source": [
    "# Завдання 6\n",
    "У попередній матриці від кожного рядка відніміть максимальний елемент цього рядка"
   ],
   "metadata": {
    "id": "AGH0TVVBNxx9"
   }
  },
  {
   "cell_type": "code",
   "source": [
    "row_max = matrix.max(axis=1, keepdims=True)\n",
    "\n",
    "adjusted_matrix = matrix - row_max\n",
    "\n",
    "print(\"Original matrix:\")\n",
    "print(matrix)\n",
    "\n",
    "print(\"\\nMax values row:\")\n",
    "print(row_max)\n",
    "\n",
    "print(\"\\nMatrix after subtracting:\")\n",
    "print(adjusted_matrix)"
   ],
   "metadata": {
    "id": "TVYjbsBDQHTU",
    "outputId": "3f3446ea-b2d0-4686-fb78-0f1578b2c50f",
    "colab": {
     "base_uri": "https://localhost:8080/"
    },
    "ExecuteTime": {
     "end_time": "2025-05-21T15:01:41.060310Z",
     "start_time": "2025-05-21T15:01:41.051471Z"
    }
   },
   "outputs": [
    {
     "name": "stdout",
     "output_type": "stream",
     "text": [
      "Original matrix:\n",
      "[[ 1  3  9]\n",
      " [ 7  6  8]\n",
      " [ 8  3  1]\n",
      " [ 7 10  5]]\n",
      "\n",
      "Max values row:\n",
      "[[ 9]\n",
      " [ 8]\n",
      " [ 8]\n",
      " [10]]\n",
      "\n",
      "Matrix after subtracting:\n",
      "[[-8 -6  0]\n",
      " [-1 -2  0]\n",
      " [ 0 -5 -7]\n",
      " [-3  0 -5]]\n"
     ]
    }
   ],
   "execution_count": 100
  },
  {
   "cell_type": "markdown",
   "source": [
    "# Завдання 7\n",
    "Є дані про вагу контейнерів для перевезення на кораблі: дрібний - 5 т,  малий - 10 т, середній - 25 т, великий - 40 т. На кораблі розміщено 20 дрібних, 5 малих, 10 середніх та 4 великих контейнерів. Знайти масу вантажу."
   ],
   "metadata": {
    "id": "cH8WhnsjQsXi"
   }
  },
  {
   "cell_type": "code",
   "source": [
    "weights = np.array([5, 10, 25, 40])\n",
    "\n",
    "counts = np.array([20, 5, 10, 4])\n",
    "\n",
    "total_weight = np.sum(weights * counts)\n",
    "\n",
    "print(\"Total cargo weight:\", total_weight, \"tons\")"
   ],
   "metadata": {
    "id": "BYrqqe9WR6g7",
    "ExecuteTime": {
     "end_time": "2025-05-21T15:01:41.099637Z",
     "start_time": "2025-05-21T15:01:41.095320Z"
    }
   },
   "outputs": [
    {
     "name": "stdout",
     "output_type": "stream",
     "text": [
      "Total cargo weight: 560 tons\n"
     ]
    }
   ],
   "execution_count": 101
  },
  {
   "cell_type": "markdown",
   "source": [
    "# Завдання 8\n",
    "Тепер у нас декілька кораблів. Напишіть код для обчислення вантажу на кожному кораблі."
   ],
   "metadata": {
    "id": "IhdiDOh3Qrmb"
   }
  },
  {
   "cell_type": "code",
   "source": [
    "# [дрібний, малий, середній, великий]\n",
    "ships = np.array([\n",
    "    [20,  5, 10,  4],\n",
    "    [10,  2,  5,  1],\n",
    "    [30, 10,  8,  2],\n",
    "    [15,  3, 12,  6]\n",
    "])\n",
    "\n",
    "\n",
    "total_weights = np.sum(ships * weights, axis=1)\n",
    "for i, weight in enumerate(total_weights, 1):\n",
    "    print(f\"Ship {i}: {weight} tons\")"
   ],
   "metadata": {
    "id": "gVUXPdFhSI95",
    "ExecuteTime": {
     "end_time": "2025-05-21T15:01:41.154920Z",
     "start_time": "2025-05-21T15:01:41.146953Z"
    }
   },
   "outputs": [
    {
     "name": "stdout",
     "output_type": "stream",
     "text": [
      "Ship 1: 560 tons\n",
      "Ship 2: 235 tons\n",
      "Ship 3: 530 tons\n",
      "Ship 4: 645 tons\n"
     ]
    }
   ],
   "execution_count": 102
  }
 ]
}
