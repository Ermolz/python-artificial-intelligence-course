{
 "cells": [
  {
   "metadata": {},
   "cell_type": "markdown",
   "source": "Imports goes here",
   "id": "ff574496c78a8d3f"
  },
  {
   "metadata": {
    "ExecuteTime": {
     "end_time": "2025-05-22T14:39:46.135725Z",
     "start_time": "2025-05-22T14:39:46.131724Z"
    }
   },
   "cell_type": "code",
   "source": [
    "import numpy as np\n",
    "\n",
    "import math"
   ],
   "id": "49f352e3bf9ac127",
   "outputs": [],
   "execution_count": 38
  },
  {
   "metadata": {},
   "cell_type": "markdown",
   "source": [
    "1. Випадкова величина, середнє\n",
    "\n",
    "Задача:\n",
    "\n",
    "Дано вибірку результатів тестування 10 студентів:\n",
    "\n",
    "[78, 85, 92, 88, 76, 95, 89, 84, 91, 87]\n",
    "\n",
    "Обчисліть математичне сподівання (середнє) вибірки.\n",
    "\n",
    "Що робити:\n",
    "Складете суму всіх значень і поділите на їх кількість.\n"
   ],
   "id": "a8373426a5f1ae98"
  },
  {
   "metadata": {
    "ExecuteTime": {
     "end_time": "2025-05-22T14:39:46.180494Z",
     "start_time": "2025-05-22T14:39:46.174453Z"
    }
   },
   "cell_type": "code",
   "source": [
    "mean = np.mean([78, 85, 92, 88, 76, 95, 89, 84, 91, 87])\n",
    "print(mean)"
   ],
   "id": "initial_id",
   "outputs": [
    {
     "name": "stdout",
     "output_type": "stream",
     "text": [
      "86.5\n"
     ]
    }
   ],
   "execution_count": 39
  },
  {
   "metadata": {},
   "cell_type": "markdown",
   "source": [
    "2. Мода\n",
    "\n",
    "Задача:\n",
    "\n",
    "Дані продажі за тиждень (у штуках):\n",
    "\n",
    "[5, 7, 5, 8, 7, 5, 9, 7, 7, 8]\n",
    "Знайдіть моду — найчастіше повторюване значення.\n",
    "\n",
    "Що робити:\n",
    "Порахувати, яке число зустрічається найчастіше."
   ],
   "id": "8ea10813a06c0fb3"
  },
  {
   "metadata": {
    "ExecuteTime": {
     "end_time": "2025-05-22T14:39:46.264658Z",
     "start_time": "2025-05-22T14:39:46.256657Z"
    }
   },
   "cell_type": "code",
   "source": [
    "sales = np.array([5, 7, 5, 8, 7, 5, 9, 7, 7, 8])\n",
    "\n",
    "values, counts = np.unique(sales, return_counts=True)\n",
    "max_count_index = np.argmax(counts)\n",
    "mode = values[max_count_index]\n",
    "\n",
    "print(values, counts)\n",
    "print(mode)"
   ],
   "id": "ae54ebfdb009058f",
   "outputs": [
    {
     "name": "stdout",
     "output_type": "stream",
     "text": [
      "[5 7 8 9] [3 4 2 1]\n",
      "7\n"
     ]
    }
   ],
   "execution_count": 40
  },
  {
   "metadata": {},
   "cell_type": "markdown",
   "source": [
    "3. Медіана\n",
    "\n",
    "Задача:\n",
    "\n",
    "Знайдіть медіану для набору:\n",
    "[45, 33, 38, 29, 40, 50, 42]\n",
    "\n",
    "Що робити:\n",
    "\n",
    "Відсортуйте дані і знайдіть центральне значення (для непарної кількості).\n"
   ],
   "id": "76e56f69ab0cfbaa"
  },
  {
   "metadata": {
    "ExecuteTime": {
     "end_time": "2025-05-22T14:39:46.345708Z",
     "start_time": "2025-05-22T14:39:46.338566Z"
    }
   },
   "cell_type": "code",
   "source": [
    "data = [45, 33, 38, 29, 40, 50, 42]\n",
    "data.sort()\n",
    "print(data)\n",
    "median = np.median(data)\n",
    "print(median)"
   ],
   "id": "a38499b8f31fd71f",
   "outputs": [
    {
     "name": "stdout",
     "output_type": "stream",
     "text": [
      "[29, 33, 38, 40, 42, 45, 50]\n",
      "40.0\n"
     ]
    }
   ],
   "execution_count": 41
  },
  {
   "metadata": {},
   "cell_type": "markdown",
   "source": [
    "4. Дисперсія\n",
    "\n",
    "Задача:\n",
    "\n",
    "Дано вибірку: [10, 12, 23, 23, 16, 23, 21, 16]\n",
    "\n",
    "Обчисліть дисперсію.\n",
    "\n",
    "Що робити:\n",
    "\n",
    "Визначте середнє, потім для кожного елемента обчисліть квадрат відхилення від середнього, потім знайдіть середнє цих квадратів.\n"
   ],
   "id": "35f4d6c62581f92"
  },
  {
   "metadata": {
    "ExecuteTime": {
     "end_time": "2025-05-22T14:39:46.417654Z",
     "start_time": "2025-05-22T14:39:46.411233Z"
    }
   },
   "cell_type": "code",
   "source": [
    "data = [10, 12, 23, 23, 16, 23, 21, 16]\n",
    "\n",
    "variance = np.var(data)\n",
    "\n",
    "print(variance)"
   ],
   "id": "2a194ab6ce6ecb1e",
   "outputs": [
    {
     "name": "stdout",
     "output_type": "stream",
     "text": [
      "24.0\n"
     ]
    }
   ],
   "execution_count": 42
  },
  {
   "metadata": {},
   "cell_type": "markdown",
   "source": [
    "5. Середньоквадратичне відхилення\n",
    "\n",
    "Задача:\n",
    "\n",
    "Для набору із задачі 4 знайдіть середньоквадратичне відхилення.\n",
    "\n",
    "Що робити:\n",
    "Візьміть квадратний корінь із дисперсії."
   ],
   "id": "f4faabdcb808a34a"
  },
  {
   "metadata": {
    "ExecuteTime": {
     "end_time": "2025-05-22T14:39:46.510915Z",
     "start_time": "2025-05-22T14:39:46.504476Z"
    }
   },
   "cell_type": "code",
   "source": [
    "data = [10, 12, 23, 23, 16, 23, 21, 16]\n",
    "std = np.std(data)\n",
    "print(std)"
   ],
   "id": "f652c67f2da41ff5",
   "outputs": [
    {
     "name": "stdout",
     "output_type": "stream",
     "text": [
      "4.898979485566356\n"
     ]
    }
   ],
   "execution_count": 43
  },
  {
   "metadata": {},
   "cell_type": "markdown",
   "source": [
    "6. Рівномірний розподіл (теорія і практичний розрахунок)\n",
    "\n",
    "Задача:\n",
    "\n",
    "Випадкова величина X рівномірно розподілена від 1 до 5.\n",
    "\n",
    "Знайдіть математичне сподівання і дисперсію."
   ],
   "id": "e3a690705229499a"
  },
  {
   "metadata": {
    "ExecuteTime": {
     "end_time": "2025-05-22T14:39:46.625220Z",
     "start_time": "2025-05-22T14:39:46.618220Z"
    }
   },
   "cell_type": "code",
   "source": [
    "samples = np.random.uniform(1, 5, size=100)\n",
    "\n",
    "mean = np.mean(samples)\n",
    "variance = np.var(samples)\n",
    "\n",
    "print(f\"Mean: {mean}\")\n",
    "print(f\"Variance: {variance}\")"
   ],
   "id": "27fa0d2667e29b91",
   "outputs": [
    {
     "name": "stdout",
     "output_type": "stream",
     "text": [
      "Mean: 2.9759421450277315\n",
      "Variance: 1.3580143884242315\n"
     ]
    }
   ],
   "execution_count": 44
  },
  {
   "metadata": {},
   "cell_type": "markdown",
   "source": [
    "7. Нормальний розподіл — ймовірність попадання\n",
    "\n",
    "Задача:\n",
    "\n",
    "Зарплати співробітників мають нормальний розподіл з середнім 1000\\/$\n",
    "та стандартним відхиленням 200\\$.\n",
    "Знайдіть ймовірність, що зарплата співробітника буде більше 1200\\$.\n",
    "\n",
    "Що робити:\n",
    "Віднормуйте значення і знайдіть ймовірність у таблиці стандартного нормального розподілу."
   ],
   "id": "ed7f6526b163986a"
  },
  {
   "metadata": {
    "ExecuteTime": {
     "end_time": "2025-05-22T14:39:46.717421Z",
     "start_time": "2025-05-22T14:39:46.711706Z"
    }
   },
   "cell_type": "code",
   "source": [
    "data = np.random.normal(loc=1000, scale=200, size=1000)\n",
    "\n",
    "\n",
    "count_bigger = np.sum(data > 1200)\n",
    "\n",
    "\n",
    "prob = count_bigger / len(data)\n",
    "\n",
    "print(f\"{prob:.4f}\")"
   ],
   "id": "955598733fcbdea7",
   "outputs": [
    {
     "name": "stdout",
     "output_type": "stream",
     "text": [
      "0.1520\n"
     ]
    }
   ],
   "execution_count": 45
  },
  {
   "metadata": {},
   "cell_type": "markdown",
   "source": [
    "8. Розподіл Пуассона — ймовірність певної кількості подій\n",
    "\n",
    "Задача:\n",
    "\n",
    "Середня кількість дзвінків у кол-центр — 3 на хвилину.<br>\n",
    "Знайдіть ймовірність отримати рівно 5 дзвінків за одну хвилину."
   ],
   "id": "e464d7088aa89014"
  },
  {
   "metadata": {
    "ExecuteTime": {
     "end_time": "2025-05-22T14:39:46.802751Z",
     "start_time": "2025-05-22T14:39:46.797421Z"
    }
   },
   "cell_type": "code",
   "source": [
    "avg = 3\n",
    "k = 5\n",
    "\n",
    "prob = (np.exp(-avg) * (avg**k)) / math.factorial(k)\n",
    "print(f\"{prob:.2f}\")"
   ],
   "id": "bdfa18a53803360d",
   "outputs": [
    {
     "name": "stdout",
     "output_type": "stream",
     "text": [
      "0.10\n"
     ]
    }
   ],
   "execution_count": 46
  },
  {
   "metadata": {},
   "cell_type": "markdown",
   "source": [
    "9. Коваріація\n",
    "\n",
    "Задача:\n",
    "\n",
    "Дано дві вибірки: <br>\n",
    "x = [1, 2, 3, 4, 5] <br>\n",
    "y = [2, 4, 6, 8, 10] <br>\n",
    "Обчисліть коваріацію.\n",
    "\n",
    "Що робити:\n",
    "Знайдіть середні для x і y, потім середнє добутку відхилень.\n"
   ],
   "id": "98344e45b48f45e2"
  },
  {
   "metadata": {
    "ExecuteTime": {
     "end_time": "2025-05-22T14:39:46.879610Z",
     "start_time": "2025-05-22T14:39:46.872715Z"
    }
   },
   "cell_type": "code",
   "source": [
    "x = np.array([1, 2, 3, 4, 5])\n",
    "y = np.array([2, 4, 6, 8, 10])\n",
    "\n",
    "mean_x = np.mean(x)\n",
    "mean_y = np.mean(y)\n",
    "cov = np.mean((x - mean_x) * (y - mean_y))\n",
    "print(cov)"
   ],
   "id": "f0f0062d8a648972",
   "outputs": [
    {
     "name": "stdout",
     "output_type": "stream",
     "text": [
      "4.0\n"
     ]
    }
   ],
   "execution_count": 47
  },
  {
   "metadata": {},
   "cell_type": "markdown",
   "source": [
    "10. Кореляція\n",
    "\n",
    "Задача:\n",
    "\n",
    "Використовуючи дані із задачі 9, обчисліть коефіцієнт кореляції Пірсона."
   ],
   "id": "ac31d36af4383e94"
  },
  {
   "metadata": {
    "ExecuteTime": {
     "end_time": "2025-05-22T14:39:47.028048Z",
     "start_time": "2025-05-22T14:39:47.022047Z"
    }
   },
   "cell_type": "code",
   "source": [
    "std_x = np.std(x)\n",
    "std_y = np.std(y)\n",
    "corr = cov / (std_x * std_y)\n",
    "print(corr)"
   ],
   "id": "f739dc7c644836e7",
   "outputs": [
    {
     "name": "stdout",
     "output_type": "stream",
     "text": [
      "0.9999999999999998\n"
     ]
    }
   ],
   "execution_count": 48
  }
 ],
 "metadata": {
  "kernelspec": {
   "display_name": "Python 3",
   "language": "python",
   "name": "python3"
  },
  "language_info": {
   "codemirror_mode": {
    "name": "ipython",
    "version": 2
   },
   "file_extension": ".py",
   "mimetype": "text/x-python",
   "name": "python",
   "nbconvert_exporter": "python",
   "pygments_lexer": "ipython2",
   "version": "2.7.6"
  }
 },
 "nbformat": 4,
 "nbformat_minor": 5
}
